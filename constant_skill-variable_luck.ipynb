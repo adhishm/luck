{
 "cells": [
  {
   "cell_type": "markdown",
   "metadata": {},
   "source": [
    "# Skill vs. Luck\n",
    "\n",
    "Test the situation when:\n",
    "- a selection process has multiple stages of selection, and \n",
    "- the luck score is shuffled at each stage\n",
    "\n",
    "Which candidates will prevail? Skill or consistent luck?"
   ]
  },
  {
   "cell_type": "code",
   "execution_count": 1,
   "metadata": {},
   "outputs": [],
   "source": [
    "from skill_vs_luck import (\n",
    "    total_score,\n",
    "    select_top_candidates,\n",
    "    generate_population_scores,\n",
    "    simulate_selection,)"
   ]
  },
  {
   "cell_type": "code",
   "execution_count": 2,
   "metadata": {},
   "outputs": [],
   "source": [
    "population = 1000000 # 1 million\n",
    "num_candidates = [10000, 1000, 100, 10] # stages of the selection process"
   ]
  },
  {
   "cell_type": "code",
   "execution_count": null,
   "metadata": {},
   "outputs": [],
   "source": []
  }
 ],
 "metadata": {
  "kernelspec": {
   "display_name": "Python 3",
   "language": "python",
   "name": "python3"
  },
  "language_info": {
   "codemirror_mode": {
    "name": "ipython",
    "version": 3
   },
   "file_extension": ".py",
   "mimetype": "text/x-python",
   "name": "python",
   "nbconvert_exporter": "python",
   "pygments_lexer": "ipython3",
   "version": "3.9.6"
  }
 },
 "nbformat": 4,
 "nbformat_minor": 2
}
