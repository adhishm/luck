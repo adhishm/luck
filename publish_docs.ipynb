{
 "cells": [
  {
   "cell_type": "code",
   "execution_count": 4,
   "metadata": {},
   "outputs": [],
   "source": [
    "import nbconvert\n",
    "import os\n",
    "import nbformat\n",
    "\n",
    "output_dir = './docs'\n",
    "\n",
    "# Create an instance of the HTMLExporter\n",
    "html_exporter = nbconvert.HTMLExporter()\n",
    "\n",
    "# Specify the notebook file you want to convert\n",
    "notebook_filename = 'constant_skill-variable_luck'\n",
    "notebook_full_path = os.path.join(notebook_filename + '.ipynb')\n",
    "html_full_path = os.path.join(output_dir, notebook_filename + '.html')\n",
    "\n",
    "# Read the notebook content\n",
    "with open(notebook_full_path, 'r', encoding='utf-8') as f:\n",
    "    notebook_content = f.read()\n",
    "\n",
    "# Convert the notebook to HTML\n",
    "(body, resources) = html_exporter.from_notebook_node(nbformat.reads(notebook_content, as_version=4))\n",
    "\n",
    "# Write the HTML output to a file\n",
    "with open(html_full_path, 'w', encoding='utf-8') as f:\n",
    "    f.write(body)"
   ]
  },
  {
   "cell_type": "code",
   "execution_count": null,
   "metadata": {},
   "outputs": [],
   "source": []
  }
 ],
 "metadata": {
  "kernelspec": {
   "display_name": "Python 3",
   "language": "python",
   "name": "python3"
  },
  "language_info": {
   "codemirror_mode": {
    "name": "ipython",
    "version": 3
   },
   "file_extension": ".py",
   "mimetype": "text/x-python",
   "name": "python",
   "nbconvert_exporter": "python",
   "pygments_lexer": "ipython3",
   "version": "3.9.6"
  }
 },
 "nbformat": 4,
 "nbformat_minor": 2
}
